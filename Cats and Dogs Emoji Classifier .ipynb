{
 "cells": [
  {
   "cell_type": "markdown",
   "id": "cba51f96",
   "metadata": {},
   "source": [
    "### Cats and Dogs Emoji Classifier "
   ]
  },
  {
   "cell_type": "code",
   "execution_count": 2,
   "id": "bc9f4791",
   "metadata": {},
   "outputs": [],
   "source": [
    "from textblob.classifiers import NaiveBayesClassifier"
   ]
  },
  {
   "cell_type": "code",
   "execution_count": 3,
   "id": "75561240",
   "metadata": {},
   "outputs": [],
   "source": [
    "train = [(\"🐈 🐯 🐱 🐩 🐱\",                   'cat'),\n",
    "         (\"🐶 🐶 🐈 🐶 🐩 🐈 🐶 🐶\",         'dog'),\n",
    "         (\"🐈 🐈 🐯 🐶 🐈\",                   'cat'),\n",
    "         (\"🐈 🐈 🐈\",                         'cat'),\n",
    "         (\"🐶 🐶 🐯 🐈 🐩 🐱 🐩 🐶 🐩 🐶 \", 'dog'),\n",
    "         (\"🐈 🐈 🐈\",                         'cat'),\n",
    "         (\"🐶 🐶 🐯 🐈 🐩 🐱 🐩 🐶 🐩 🐶 \", 'dog'),\n",
    "         (\"🐈 🐈 🐈\",                         'cat'),\n",
    "         (\"🐶 🐶 🐯 🐈 🐩 🐱 🐩 🐶 🐩 🐶 \", 'dog'),\n",
    "         (\"🐈 🐈 🐈\",                         'cat'),\n",
    "         (\"🐶 🐶 🐯 🐈 🐩 🐱 🎂 🐶 🐩 🐶 \", 'dog'),\n",
    "         (\"🐈 🐈 🐈\",                         'cat'),\n",
    "         (\"🐶 🐶 🐯 🐈 🐩 🐱 🐩 🐶 🐩 🐶 \", 'dog'),\n",
    "         (\"🐈 🐈 🐈\",                         'cat'),\n",
    "         (\"🐶 🐶 🐯 🐈 🐩 🐱 🐩 🐶 🌺 🦋 \", 'dog'),\n",
    "         (\"🐈 🐈 🐈\",                         'cat'),\n",
    "         (\"🐶 🐶 🐯 🐈 🐩 🐱 🐩 🐶 🐩 🐶 \", 'dog'),\n",
    "         (\"🐈 🐈 🐈\",                         'cat'),\n",
    "         (\"🐶 🐶 🐯 🐈 🐩 🐱 🐩 🐶 🐩 🐶 \", 'dog'),\n",
    "         (\"🐈 🐈 🐈\",                         'cat'),\n",
    "         (\"🐶 🐶 🐯 🐈 🐩 🐱 🎂 🐶 🐩 🐶 \", 'dog'),\n",
    "         (\"🐈 🐈 🐈\",                         'cat'),\n",
    "         (\"🐶 🐶 🐯 🐈 🐩 🐱 🐩 🐶 🐩 🐶 \", 'dog'),\n",
    "         (\"🐈 🐈 🐈\",                         'cat'),\n",
    "         (\"🐶 🐶 🎂 🐈 🐩 🐱 🐩 🐶 🐩 🐶 \", 'dog'),\n",
    "         (\"🐈 🐈 🐈\",                         'cat'),\n",
    "         (\"🐶 🐶 🐯 🐈 🐩 🐱 🐩 🐶 🐩 🐶 \", 'dog'),\n",
    "         (\"🐈 🐈 🐈\",                         'cat'),\n",
    "         (\"🐶 🐶 🐯 🐈 🐩 🐱 🐩 🐶 🐩 🐶 \", 'dog'),\n",
    "         (\"🐈 🐈 🐈\",                         'cat'),\n",
    "         (\"🐶 🐶 🐯 🐈 🐩 🐱 🐩 🐶 🐩 🐶 \", 'dog'),\n",
    "         (\"🐈 🐈 🐈\",                         'cat'),\n",
    "         (\"🐶 🐶 🐯 🐈 🐩 🐱 🐩 🐶 🐩 🐶 \", 'dog'),\n",
    "         (\"🐈 🐈 🐈\",                         'cat'),\n",
    "         (\"🐶 🐶 🐯 🐈 🐩 🐱 🐩 🐶 🐩 🐶 \", 'dog'),\n",
    "         (\"🐈 🐈 🐈\",                         'cat'),\n",
    "         (\"🐐  🐯 🐈 🐩 🐱 🐩 🐶 🐩 🐶 \", 'dog'),\n",
    "         (\"🎂 🐈 🐈\",                         'cat'),\n",
    "         (\"🐶 🐶 🐯 🐈 🐩 🐱 🐩 🐶 🐩 🐶 \", 'dog')\n",
    "\n",
    "]"
   ]
  },
  {
   "cell_type": "code",
   "execution_count": 12,
   "id": "e73e9c60",
   "metadata": {},
   "outputs": [],
   "source": [
    "test= [(\"🐈 🐈 🐈\",                         'cat'),\n",
    "     (\"🐶 🐶 🐯 🐈 🐩 🐐 🐩 🐶 🐩 🐶 \", 'dog'),\n",
    "     (\"🐈 🐈 🐈\",                         'cat'),\n",
    "     (\"🐶 🐶 🐯 🐐 🐩 🐱 🐩 🐶 🐩 🐶 \", 'dog'),\n",
    "     (\"🐈 🐈 🐈\",                         'cat'),\n",
    "     (\"🐶 🐶 🐯 🐈 🐩 🐱 🐩 🐶 🐩 🐶 \", 'dog'),\n",
    "     (\"🐈 🐈 🐈\",                         'cat'),\n",
    "     (\"🐶 🐶 🐯 🐈 🐩 🐱 🐐 🐶 🐩 🐶 \", 'dog'),\n",
    "     (\"🐈 🦋 🐈\",                         'cat'),\n",
    "     (\"🐶 🐶 🐯 🦋 🦋 🐩 🐱 🐩 🐶 🐩 🐶 \", 'dog'),\n",
    "     (\"🐈 🐈 🐈\",                         'cat'),\n",
    "     (\"🐶 🐶 🐯 🐈 🐩 🐱 🐩 🐶 🐩 🐶 \", 'dog'),\n",
    "     (\"🐈 🐈 🐈\",                         'cat'),\n",
    "     (\"🐶 🐶 🐯 🐈 🐩 🦋 🐩 🐶 🐩 🐶 \", 'dog'),\n",
    "     (\"🐈 🐈 🐈\",                         'cat'),\n",
    "     (\"🐶 🐶 🐯 🐈 🐩 🦋 🐩 🐶 🐩 🐶 \", 'dog'),\n",
    "     (\"🐈 🐈 🐈\",                         'cat')]"
   ]
  },
  {
   "cell_type": "code",
   "execution_count": 4,
   "id": "3011f547",
   "metadata": {},
   "outputs": [],
   "source": [
    "model = NaiveBayesClassifier(train)"
   ]
  },
  {
   "cell_type": "markdown",
   "id": "5cfaf95e",
   "metadata": {},
   "source": [
    "### Prediction"
   ]
  },
  {
   "cell_type": "code",
   "execution_count": 5,
   "id": "2bfaf840",
   "metadata": {},
   "outputs": [
    {
     "data": {
      "text/plain": [
       "'cat'"
      ]
     },
     "execution_count": 5,
     "metadata": {},
     "output_type": "execute_result"
    }
   ],
   "source": [
    "model.classify(\"🐱\")"
   ]
  },
  {
   "cell_type": "code",
   "execution_count": 6,
   "id": "cacf73e4",
   "metadata": {},
   "outputs": [
    {
     "data": {
      "text/plain": [
       "'cat'"
      ]
     },
     "execution_count": 6,
     "metadata": {},
     "output_type": "execute_result"
    }
   ],
   "source": [
    "model.classify(\"🐶 🐶\")"
   ]
  },
  {
   "cell_type": "code",
   "execution_count": 7,
   "id": "866808ee",
   "metadata": {},
   "outputs": [
    {
     "data": {
      "text/plain": [
       "'dog'"
      ]
     },
     "execution_count": 7,
     "metadata": {},
     "output_type": "execute_result"
    }
   ],
   "source": [
    "model.classify(\"🐶 🐱\")"
   ]
  },
  {
   "cell_type": "code",
   "execution_count": 8,
   "id": "c732c38d",
   "metadata": {},
   "outputs": [
    {
     "data": {
      "text/plain": [
       "'dog'"
      ]
     },
     "execution_count": 8,
     "metadata": {},
     "output_type": "execute_result"
    }
   ],
   "source": [
    "model.classify(\"🐈 🐈 🐶 🐶 🐩 🐯 🐯\")"
   ]
  },
  {
   "cell_type": "code",
   "execution_count": 9,
   "id": "3ca7c8cc",
   "metadata": {},
   "outputs": [
    {
     "data": {
      "text/plain": [
       "'cat'"
      ]
     },
     "execution_count": 9,
     "metadata": {},
     "output_type": "execute_result"
    }
   ],
   "source": [
    "model.classify(\"🐬\")"
   ]
  },
  {
   "cell_type": "code",
   "execution_count": 10,
   "id": "64e0eff8",
   "metadata": {},
   "outputs": [
    {
     "data": {
      "text/plain": [
       "'cat'"
      ]
     },
     "execution_count": 10,
     "metadata": {},
     "output_type": "execute_result"
    }
   ],
   "source": [
    "model.classify(\"🦋\")"
   ]
  },
  {
   "cell_type": "markdown",
   "id": "04ff3e01",
   "metadata": {},
   "source": [
    "### Accuracy"
   ]
  },
  {
   "cell_type": "code",
   "execution_count": 14,
   "id": "11edc9a3",
   "metadata": {},
   "outputs": [
    {
     "name": "stdout",
     "output_type": "stream",
     "text": [
      "1.0\n"
     ]
    }
   ],
   "source": [
    "print(f\"{model.accuracy(test):}\")"
   ]
  },
  {
   "cell_type": "code",
   "execution_count": null,
   "id": "d953abbf",
   "metadata": {},
   "outputs": [],
   "source": []
  }
 ],
 "metadata": {
  "kernelspec": {
   "display_name": "Python 3 (ipykernel)",
   "language": "python",
   "name": "python3"
  },
  "language_info": {
   "codemirror_mode": {
    "name": "ipython",
    "version": 3
   },
   "file_extension": ".py",
   "mimetype": "text/x-python",
   "name": "python",
   "nbconvert_exporter": "python",
   "pygments_lexer": "ipython3",
   "version": "3.9.7"
  }
 },
 "nbformat": 4,
 "nbformat_minor": 5
}
